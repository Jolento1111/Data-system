{
 "cells": [
  {
   "cell_type": "markdown",
   "metadata": {},
   "source": [
    "## Sampling after data cleaning\n",
    "\n",
    "Sampling is performed to test the relationship between database size and query running time.\n",
    "<br>\n",
    "Below are the requirements of this project:\n",
    "<br>&emsp;&emsp;For each of the above query, you may want to test if your query gives correct results. Please perform the following tasks:\n",
    "<br>&emsp;&emsp;a. Record the running time.\n",
    "<br>&emsp;&emsp;b. Cut the size of the database that you used by half, re-run the queries, and record the new running time\n",
    "<br>&emsp;&emsp;c. Further cut the size of the database in b) by half, re-run the queries, and record the new running time.\n",
    "\n"
   ]
  },
  {
   "cell_type": "code",
   "execution_count": 2,
   "metadata": {},
   "outputs": [],
   "source": [
    "import pandas as pd\n",
    "import os"
   ]
  },
  {
   "cell_type": "code",
   "execution_count": 4,
   "metadata": {},
   "outputs": [],
   "source": [
    "def half_and_quarter_sampling(df_name, random_state=1024):\n",
    "    df = pd.read_csv(os.path.join('csv_files', df_name))\n",
    "    print('Start sampling {}...'.format(df_name))\n",
    "    half_df = df.sample(frac=0.5, random_state=random_state)\n",
    "    quarter_df = df.sample(frac=0.25, random_state=random_state)\n",
    "\n",
    "    half_keys = half_df['_key'].tolist()\n",
    "    quarter_keys = quarter_df['_key'].tolist()\n",
    "\n",
    "    \n",
    "    half_df.to_csv(os.path.join('csv_files/half', 'half_' + df_name), index=False)\n",
    "    quarter_df.to_csv(os.path.join('csv_files/quarter', 'quarter_' + df_name), index=False)\n",
    "\n",
    "    return half_keys, quarter_keys"
   ]
  },
  {
   "cell_type": "code",
   "execution_count": 5,
   "metadata": {},
   "outputs": [
    {
     "name": "stdout",
     "output_type": "stream",
     "text": [
      "Start sampling article.csv...\n",
      "Start sampling inproceedings.csv...\n",
      "Start sampling incollection.csv...\n",
      "Start sampling phdthesis.csv...\n",
      "Start sampling mastersthesis.csv...\n",
      "Start sampling www.csv...\n",
      "Start sampling proceedings.csv...\n",
      "Start sampling book.csv...\n"
     ]
    }
   ],
   "source": [
    "os.makedirs('csv_files/half', exist_ok=True)\n",
    "os.makedirs('csv_files/quarter', exist_ok=True)\n",
    "\n",
    "filenames = ['article.csv', 'inproceedings.csv', 'incollection.csv', 'phdthesis.csv', 'mastersthesis.csv', 'www.csv', 'proceedings.csv', 'book.csv']\n",
    "HKs, QKs = [], []\n",
    "\n",
    "for fn in filenames:\n",
    "    half_keys, quarter_keys = half_and_quarter_sampling(fn)\n",
    "    HKs.extend(half_keys)\n",
    "    QKs.extend(quarter_keys)\n"
   ]
  },
  {
   "cell_type": "markdown",
   "metadata": {},
   "source": [
    "### Filter relation of authoring"
   ]
  },
  {
   "cell_type": "code",
   "execution_count": 7,
   "metadata": {},
   "outputs": [],
   "source": [
    "R_author = pd.read_csv('csv_files/R_author.csv')"
   ]
  },
  {
   "cell_type": "code",
   "execution_count": 9,
   "metadata": {},
   "outputs": [
    {
     "name": "stdout",
     "output_type": "stream",
     "text": [
      "(25389959, 2)\n",
      "(12694301, 2)\n",
      "(6346685, 2)\n"
     ]
    }
   ],
   "source": [
    "half_R_author = R_author[R_author['_key'].isin(HKs)]\n",
    "quarter_R_author = R_author[R_author['_key'].isin(QKs)]\n",
    "print(R_author.shape)\n",
    "print(half_R_author.shape)\n",
    "print(quarter_R_author.shape)"
   ]
  },
  {
   "cell_type": "code",
   "execution_count": 10,
   "metadata": {},
   "outputs": [],
   "source": [
    "half_R_author.to_csv('csv_files/half/half_R_author.csv', index=False)\n",
    "quarter_R_author.to_csv('csv_files/quarter/quarter_R_author.csv', index=False)\n",
    "\n",
    "del R_author, half_R_author, quarter_R_author"
   ]
  },
  {
   "cell_type": "markdown",
   "metadata": {},
   "source": [
    "### Filter relation of editing"
   ]
  },
  {
   "cell_type": "code",
   "execution_count": 11,
   "metadata": {},
   "outputs": [],
   "source": [
    "R_editor = pd.read_csv('csv_files/R_editor.csv')"
   ]
  },
  {
   "cell_type": "code",
   "execution_count": 12,
   "metadata": {},
   "outputs": [
    {
     "name": "stdout",
     "output_type": "stream",
     "text": [
      "(141330, 2)\n",
      "(70433, 2)\n",
      "(34982, 2)\n"
     ]
    }
   ],
   "source": [
    "half_R_editor = R_editor[R_editor['_key'].isin(HKs)]\n",
    "quarter_R_editor = R_editor[R_editor['_key'].isin(QKs)]\n",
    "print(R_editor.shape)\n",
    "print(half_R_editor.shape)\n",
    "print(quarter_R_editor.shape)"
   ]
  },
  {
   "cell_type": "code",
   "execution_count": 13,
   "metadata": {},
   "outputs": [],
   "source": [
    "half_R_editor.to_csv('csv_files/half/half_R_editor.csv', index=False)\n",
    "quarter_R_editor.to_csv('csv_files/quarter/quarter_R_editor.csv', index=False)\n",
    "\n",
    "del R_editor, half_R_editor, quarter_R_editor"
   ]
  }
 ],
 "metadata": {
  "kernelspec": {
   "display_name": "base",
   "language": "python",
   "name": "python3"
  },
  "language_info": {
   "codemirror_mode": {
    "name": "ipython",
    "version": 3
   },
   "file_extension": ".py",
   "mimetype": "text/x-python",
   "name": "python",
   "nbconvert_exporter": "python",
   "pygments_lexer": "ipython3",
   "version": "3.8.5"
  }
 },
 "nbformat": 4,
 "nbformat_minor": 2
}
