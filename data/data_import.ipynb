{
 "cells": [
  {
   "cell_type": "code",
   "execution_count": null,
   "metadata": {},
   "outputs": [],
   "source": [
    "import data_import as di"
   ]
  },
  {
   "cell_type": "markdown",
   "metadata": {},
   "source": [
    "## authors"
   ]
  },
  {
   "cell_type": "code",
   "execution_count": null,
   "metadata": {},
   "outputs": [],
   "source": [
    "author_path = di.read_data('authors.csv')\n",
    "di.csv2sql_dblp(author_path,'author')"
   ]
  },
  {
   "cell_type": "markdown",
   "metadata": {},
   "source": [
    "## article.csv to article"
   ]
  },
  {
   "cell_type": "code",
   "execution_count": 7,
   "metadata": {},
   "outputs": [
    {
     "name": "stdout",
     "output_type": "stream",
     "text": [
      "Loading data from csv_files/article.csv...\n",
      "Start importing data...\n",
      "Data has been imported to mysql table dblp.article\n"
     ]
    }
   ],
   "source": [
    "article_path = di.read_data('article.csv')\n",
    "di.csv2sql_dblp(article_path,'article')"
   ]
  },
  {
   "cell_type": "markdown",
   "metadata": {},
   "source": [
    "## book.csv and proceeding.csv to publish"
   ]
  },
  {
   "cell_type": "code",
   "execution_count": 13,
   "metadata": {},
   "outputs": [
    {
     "name": "stdout",
     "output_type": "stream",
     "text": [
      "Loading data from csv_files/book.csv...\n",
      "Start importing data...\n",
      "Data has been imported to mysql table dblp.publish\n",
      "Loading data from csv_files/proceedings.csv...\n",
      "Start importing data...\n",
      "Data has been imported to mysql table dblp.publish\n"
     ]
    }
   ],
   "source": [
    "book_path = di.read_data('book.csv')\n",
    "di.csv2sql_dblp(book_path,'publish')\n",
    "proceeding_path = di.read_data('proceedings.csv')\n",
    "di.csv2sql_dblp(proceeding_path,'publish')"
   ]
  },
  {
   "cell_type": "markdown",
   "metadata": {},
   "source": [
    "## inproceedings and incollection to in_"
   ]
  },
  {
   "cell_type": "code",
   "execution_count": 15,
   "metadata": {},
   "outputs": [
    {
     "name": "stdout",
     "output_type": "stream",
     "text": [
      "Loading data from csv_files/inproceedings.csv...\n",
      "Start importing data...\n",
      "Data has been imported to mysql table dblp.in_\n",
      "Loading data from csv_files/incollection.csv...\n",
      "Start importing data...\n",
      "Data has been imported to mysql table dblp.in_\n"
     ]
    }
   ],
   "source": [
    "inproceeding_path = di.read_data('inproceedings.csv')\n",
    "di.csv2sql_dblp(inproceeding_path,'in_')\n",
    "incollection_path = di.read_data('incollection.csv')\n",
    "di.csv2sql_dblp(incollection_path,'in_')"
   ]
  },
  {
   "cell_type": "markdown",
   "metadata": {},
   "source": [
    "## thesis"
   ]
  },
  {
   "cell_type": "code",
   "execution_count": 17,
   "metadata": {},
   "outputs": [
    {
     "name": "stdout",
     "output_type": "stream",
     "text": [
      "Loading data from csv_files/mastersthesis.csv...\n",
      "Start importing data...\n",
      "Data has been imported to mysql table dblp.thesis\n",
      "Loading data from csv_files/phdthesis.csv...\n",
      "Start importing data...\n",
      "Data has been imported to mysql table dblp.thesis\n"
     ]
    }
   ],
   "source": [
    "master_path = di.read_data('mastersthesis.csv')\n",
    "di.csv2sql_dblp(master_path,'thesis')\n",
    "phd_path = di.read_data('phdthesis.csv')\n",
    "di.csv2sql_dblp(phd_path,'thesis')"
   ]
  },
  {
   "cell_type": "markdown",
   "metadata": {},
   "source": [
    "## author & editor relations"
   ]
  },
  {
   "cell_type": "code",
   "execution_count": 18,
   "metadata": {},
   "outputs": [
    {
     "name": "stdout",
     "output_type": "stream",
     "text": [
      "Loading data from csv_files/R_author.csv...\n",
      "Start importing data...\n",
      "Data has been imported to mysql table dblp.r_author\n"
     ]
    }
   ],
   "source": [
    "author_relation_path = di.read_data('R_author.csv')\n",
    "di.csv2sql_dblp(author_relation_path,'r_author')"
   ]
  },
  {
   "cell_type": "code",
   "execution_count": 20,
   "metadata": {},
   "outputs": [
    {
     "name": "stdout",
     "output_type": "stream",
     "text": [
      "Loading data from csv_files/R_editer.csv...\n",
      "Start importing data...\n",
      "Data has been imported to mysql table dblp.r_editor\n"
     ]
    }
   ],
   "source": [
    "editor_relation_path = di.read_data('R_editer.csv')\n",
    "di.csv2sql_dblp(editor_relation_path,'r_editor')"
   ]
  }
 ],
 "metadata": {
  "kernelspec": {
   "display_name": "Python 3",
   "language": "python",
   "name": "python3"
  },
  "language_info": {
   "codemirror_mode": {
    "name": "ipython",
    "version": 3
   },
   "file_extension": ".py",
   "mimetype": "text/x-python",
   "name": "python",
   "nbconvert_exporter": "python",
   "pygments_lexer": "ipython3",
   "version": "3.8.5"
  }
 },
 "nbformat": 4,
 "nbformat_minor": 2
}
