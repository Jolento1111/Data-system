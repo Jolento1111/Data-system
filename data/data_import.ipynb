{
 "cells": [
  {
   "cell_type": "code",
   "execution_count": 1,
   "metadata": {},
   "outputs": [],
   "source": [
    "import data_import as di"
   ]
  },
  {
   "cell_type": "markdown",
   "metadata": {},
   "source": [
    "## cleaned_article.csv to article"
   ]
  },
  {
   "cell_type": "code",
   "execution_count": null,
   "metadata": {},
   "outputs": [],
   "source": [
    "article_path = di.read_data('cleaned_article.csv')"
   ]
  },
  {
   "cell_type": "code",
   "execution_count": null,
   "metadata": {},
   "outputs": [],
   "source": [
    "di.csv2sql_dblp(article_path,'article')"
   ]
  },
  {
   "cell_type": "markdown",
   "metadata": {},
   "source": [
    "## book.csv and proceeding.csv to publish"
   ]
  },
  {
   "cell_type": "code",
   "execution_count": 2,
   "metadata": {},
   "outputs": [
    {
     "name": "stdout",
     "output_type": "stream",
     "text": [
      "Data has been imported to mysql tablepublish\n",
      "Data has been imported to mysql tablepublish\n"
     ]
    }
   ],
   "source": [
    "book_path = di.read_data('cleaned_book.csv')\n",
    "di.csv2sql_dblp(book_path,'publish')\n",
    "proceeding_path = di.read_data('cleaned_proceeding.csv')\n",
    "di.csv2sql_dblp(proceeding_path,'publish')\n"
   ]
  },
  {
   "cell_type": "markdown",
   "metadata": {},
   "source": [
    "## inproceedings and incollection to in_"
   ]
  },
  {
   "cell_type": "code",
   "execution_count": 3,
   "metadata": {},
   "outputs": [
    {
     "name": "stdout",
     "output_type": "stream",
     "text": [
      "Data has been imported to mysql tablein_\n",
      "Data has been imported to mysql tablein_\n"
     ]
    }
   ],
   "source": [
    "inproceeding_path = di.read_data('cleaned_inproceeding.csv')\n",
    "di.csv2sql_dblp(inproceeding_path,'in_')\n",
    "incollection_path = di.read_data('cleaned_incollection.csv')\n",
    "di.csv2sql_dblp(incollection_path,'in_')"
   ]
  },
  {
   "cell_type": "code",
   "execution_count": 4,
   "metadata": {},
   "outputs": [
    {
     "name": "stdout",
     "output_type": "stream",
     "text": [
      "Data has been imported to mysql tablethesis\n",
      "Data has been imported to mysql tablethesis\n"
     ]
    }
   ],
   "source": [
    "master_path = di.read_data('cleaned_masterthesis.csv')\n",
    "di.csv2sql_dblp(master_path,'thesis')\n",
    "phd_path = di.read_data('cleaned_phdthesis.csv')\n",
    "di.csv2sql_dblp(phd_path,'thesis')"
   ]
  },
  {
   "cell_type": "code",
   "execution_count": null,
   "metadata": {},
   "outputs": [],
   "source": []
  }
 ],
 "metadata": {
  "kernelspec": {
   "display_name": "Python 3",
   "language": "python",
   "name": "python3"
  },
  "language_info": {
   "codemirror_mode": {
    "name": "ipython",
    "version": 3
   },
   "file_extension": ".py",
   "mimetype": "text/x-python",
   "name": "python",
   "nbconvert_exporter": "python",
   "pygments_lexer": "ipython3",
   "version": "3.11.4"
  }
 },
 "nbformat": 4,
 "nbformat_minor": 2
}
