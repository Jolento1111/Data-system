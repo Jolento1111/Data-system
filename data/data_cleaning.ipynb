{
 "cells": [
  {
   "cell_type": "markdown",
   "metadata": {},
   "source": [
    "# Data Cleaning"
   ]
  },
  {
   "cell_type": "code",
   "execution_count": 1,
   "metadata": {},
   "outputs": [],
   "source": [
    "import pandas as pd"
   ]
  },
  {
   "cell_type": "markdown",
   "metadata": {},
   "source": [
    "## author"
   ]
  },
  {
   "cell_type": "code",
   "execution_count": 3,
   "metadata": {},
   "outputs": [],
   "source": [
    "author = pd.read_csv('csv_files/authors.csv')\n",
    "author.rename(columns={'name':'author'}, inplace=True)\n",
    "#author.to_csv('csv_files/authors.csv', index=False)"
   ]
  },
  {
   "cell_type": "code",
   "execution_count": 3,
   "metadata": {},
   "outputs": [
    {
     "name": "stdout",
     "output_type": "stream",
     "text": [
      "(3426332, 1)\n",
      "(3426332,)\n"
     ]
    }
   ],
   "source": [
    "print(author.shape)\n",
    "print(author.author.unique().shape)"
   ]
  },
  {
   "cell_type": "code",
   "execution_count": 4,
   "metadata": {},
   "outputs": [],
   "source": [
    "del author"
   ]
  },
  {
   "cell_type": "markdown",
   "metadata": {},
   "source": [
    "## article"
   ]
  },
  {
   "cell_type": "code",
   "execution_count": 5,
   "metadata": {},
   "outputs": [],
   "source": [
    "article = pd.read_csv('csv_files/article.csv')"
   ]
  },
  {
   "cell_type": "code",
   "execution_count": 6,
   "metadata": {},
   "outputs": [
    {
     "data": {
      "text/plain": [
       "_key        3269592\n",
       "mdate       3269592\n",
       "publtype     586879\n",
       "title       3269591\n",
       "author      3250036\n",
       "year        3269589\n",
       "journal     3269587\n",
       "ee          3245657\n",
       "_url        3269041\n",
       "dtype: int64"
      ]
     },
     "execution_count": 6,
     "metadata": {},
     "output_type": "execute_result"
    }
   ],
   "source": [
    "article.rename(columns={'key':'_key','url': '_url'}, inplace=True)\n",
    "article.count()"
   ]
  },
  {
   "cell_type": "code",
   "execution_count": 7,
   "metadata": {},
   "outputs": [
    {
     "data": {
      "text/plain": [
       "255"
      ]
     },
     "execution_count": 7,
     "metadata": {},
     "output_type": "execute_result"
    }
   ],
   "source": [
    "def truncate_title(title):\n",
    "    title = str(title)\n",
    "    if len(title) > 255:\n",
    "        return title[:255]\n",
    "    else:\n",
    "        return title\n",
    "\n",
    "# 应用截断函数到 'title' 列\n",
    "article['title'] = article['title'].apply(truncate_title)\n",
    "article['ee'] = article['ee'].apply(truncate_title)\n",
    "\n",
    "max_length_index = article['title'].str.len().idxmax()\n",
    "max_string_value = article['title'][max_length_index]\n",
    "max_string_value\n",
    "len(max_string_value)\n"
   ]
  },
  {
   "cell_type": "code",
   "execution_count": 8,
   "metadata": {},
   "outputs": [
    {
     "data": {
      "text/plain": [
       "_key      10679885\n",
       "author    10679885\n",
       "dtype: int64"
      ]
     },
     "execution_count": 8,
     "metadata": {},
     "output_type": "execute_result"
    }
   ],
   "source": [
    "R_article_author = article.assign(author = article['author'].str.split('::')).explode('author')\n",
    "R_article_author.drop(columns=['mdate','publtype','title','year','journal','ee','_url'],inplace=True)\n",
    "R_article_author.dropna(inplace=True)\n",
    "R_article_author.count()"
   ]
  },
  {
   "cell_type": "code",
   "execution_count": 9,
   "metadata": {},
   "outputs": [],
   "source": [
    "article.drop(columns=['author'], inplace=True)\n",
    "article.to_csv('csv_files/article.csv', index=False)"
   ]
  },
  {
   "cell_type": "code",
   "execution_count": 10,
   "metadata": {},
   "outputs": [],
   "source": [
    "del article"
   ]
  },
  {
   "cell_type": "markdown",
   "metadata": {},
   "source": [
    "## book"
   ]
  },
  {
   "cell_type": "code",
   "execution_count": 11,
   "metadata": {},
   "outputs": [],
   "source": [
    "book = pd.read_csv('csv_files/book.csv')"
   ]
  },
  {
   "cell_type": "code",
   "execution_count": 12,
   "metadata": {},
   "outputs": [
    {
     "data": {
      "text/plain": [
       "_key         20150\n",
       "mdate        20150\n",
       "title        20150\n",
       "editor        2364\n",
       "year         20150\n",
       "publisher    18389\n",
       "booktitle     2106\n",
       "volume        4191\n",
       "series        8886\n",
       "ee           13423\n",
       "_url          2486\n",
       "isbn         17070\n",
       "_type        20150\n",
       "dtype: int64"
      ]
     },
     "execution_count": 12,
     "metadata": {},
     "output_type": "execute_result"
    }
   ],
   "source": [
    "book.rename(columns={'key':'_key','url': '_url'}, inplace=True)\n",
    "book['_type'] = 'book'\n",
    "book.count()"
   ]
  },
  {
   "cell_type": "code",
   "execution_count": 13,
   "metadata": {},
   "outputs": [],
   "source": [
    "def truncate_title(title):\n",
    "    title = str(title)\n",
    "    if len(title) > 255:\n",
    "        return title[:255]\n",
    "    else:\n",
    "        return title\n",
    "\n",
    "# 应用截断函数到 'title' 列\n",
    "book['title'] = book['title'].apply(truncate_title)\n",
    "book['booktitle'] = book['booktitle'].apply(truncate_title)\n",
    "book['isbn'] = book['isbn'].apply(truncate_title)\n",
    "book['ee'] = book['ee'].apply(truncate_title)\n",
    "book['_url'] = book['_url'].apply(truncate_title)"
   ]
  },
  {
   "cell_type": "code",
   "execution_count": 14,
   "metadata": {},
   "outputs": [
    {
     "data": {
      "text/plain": [
       "_key      6516\n",
       "editor    6516\n",
       "_type     6516\n",
       "dtype: int64"
      ]
     },
     "execution_count": 14,
     "metadata": {},
     "output_type": "execute_result"
    }
   ],
   "source": [
    "R_book_editor = book.assign(editor = book['editor'].str.split('::')).explode('editor')\n",
    "R_book_editor.drop(columns=['mdate','title','year','publisher','isbn','series','volume','_url','booktitle', 'ee', '_type'],inplace=True)\n",
    "R_book_editor.dropna(inplace=True)\n",
    "R_book_editor.count()"
   ]
  },
  {
   "cell_type": "code",
   "execution_count": 15,
   "metadata": {},
   "outputs": [],
   "source": [
    "book.drop(columns=['editor'], inplace=True)\n",
    "book.to_csv('csv_files/book.csv', index=False)\n",
    "del book"
   ]
  },
  {
   "cell_type": "markdown",
   "metadata": {},
   "source": [
    "## proceedings"
   ]
  },
  {
   "cell_type": "code",
   "execution_count": 16,
   "metadata": {},
   "outputs": [],
   "source": [
    "proceeding = pd.read_csv('csv_files/proceedings.csv')"
   ]
  },
  {
   "cell_type": "code",
   "execution_count": 17,
   "metadata": {},
   "outputs": [
    {
     "data": {
      "text/plain": [
       "_key         55933\n",
       "mdate        55933\n",
       "title        55933\n",
       "editor       41847\n",
       "year         55933\n",
       "publisher    54246\n",
       "booktitle    55406\n",
       "volume       24817\n",
       "series       25243\n",
       "ee           50400\n",
       "_url         55881\n",
       "isbn         46284\n",
       "_type        55933\n",
       "dtype: int64"
      ]
     },
     "execution_count": 17,
     "metadata": {},
     "output_type": "execute_result"
    }
   ],
   "source": [
    "proceeding.rename(columns={'key':'_key', 'url': '_url'}, inplace=True)\n",
    "proceeding['_type'] = 'proceeding'\n",
    "proceeding.count()"
   ]
  },
  {
   "cell_type": "code",
   "execution_count": 18,
   "metadata": {},
   "outputs": [],
   "source": [
    "def truncate_title(title):\n",
    "    title = str(title)\n",
    "    if len(title) > 255:\n",
    "        return title[:255]\n",
    "    else:\n",
    "        return title\n",
    "\n",
    "# 应用截断函数到 'title' 列\n",
    "proceeding['title'] = proceeding['title'].apply(truncate_title)\n",
    "proceeding['booktitle'] = proceeding['booktitle'].apply(truncate_title)\n",
    "proceeding['isbn'] = proceeding['isbn'].apply(truncate_title)\n",
    "proceeding['ee'] = proceeding['ee'].apply(truncate_title)\n",
    "proceeding['_url'] = proceeding['_url'].apply(truncate_title)"
   ]
  },
  {
   "cell_type": "code",
   "execution_count": 19,
   "metadata": {},
   "outputs": [
    {
     "data": {
      "text/plain": [
       "_key      134814\n",
       "editor    134814\n",
       "_type     134814\n",
       "dtype: int64"
      ]
     },
     "execution_count": 19,
     "metadata": {},
     "output_type": "execute_result"
    }
   ],
   "source": [
    "R_proceeding_editor = proceeding.assign(editor = proceeding['editor'].str.split('::')).explode('editor')\n",
    "R_proceeding_editor.drop(columns=['mdate','title','year','publisher','isbn','series','volume','_url','booktitle', 'ee', '_type'],inplace=True)\n",
    "R_proceeding_editor.dropna(inplace=True)\n",
    "R_proceeding_editor.count()"
   ]
  },
  {
   "cell_type": "code",
   "execution_count": 20,
   "metadata": {},
   "outputs": [],
   "source": [
    "proceeding.drop(columns=['editor'], inplace=True)\n",
    "proceeding.to_csv('csv_files/proceedings.csv', index=False)\n",
    "del proceeding"
   ]
  },
  {
   "cell_type": "markdown",
   "metadata": {},
   "source": [
    "## inproceedings and incollection"
   ]
  },
  {
   "cell_type": "code",
   "execution_count": 21,
   "metadata": {},
   "outputs": [],
   "source": [
    "inproceeding = pd.read_csv('csv_files/inproceedings.csv')\n",
    "incollection = pd.read_csv('csv_files/incollection.csv')"
   ]
  },
  {
   "cell_type": "code",
   "execution_count": 22,
   "metadata": {},
   "outputs": [
    {
     "name": "stdout",
     "output_type": "stream",
     "text": [
      "_key         3321836\n",
      "mdate        3321836\n",
      "title        3321835\n",
      "author       3316737\n",
      "year         3321836\n",
      "crossref     3317737\n",
      "booktitle    3321836\n",
      "ee           3184453\n",
      "_url         3321836\n",
      "_type        3321836\n",
      "dtype: int64\n",
      "_key         69940\n",
      "mdate        69940\n",
      "title        69940\n",
      "author       59126\n",
      "year         69940\n",
      "crossref     67307\n",
      "booktitle    69940\n",
      "ee           66501\n",
      "_url         69940\n",
      "_type        69940\n",
      "dtype: int64\n"
     ]
    }
   ],
   "source": [
    "inproceeding.rename(columns={'key':'_key', 'url': '_url'}, inplace=True)\n",
    "incollection.rename(columns={'key':'_key','url': '_url'}, inplace=True)\n",
    "inproceeding['_type'] = 'inproceeding'\n",
    "incollection['_type'] = 'incollection'\n",
    "\n",
    "print(inproceeding.count())\n",
    "print(incollection.count())"
   ]
  },
  {
   "cell_type": "code",
   "execution_count": 23,
   "metadata": {},
   "outputs": [],
   "source": [
    "def truncate_title(title):\n",
    "    title = str(title)\n",
    "    if len(title) > 255:\n",
    "        return title[:255]\n",
    "    else:\n",
    "        return title\n",
    "\n",
    "inproceeding['title'] = inproceeding['title'].apply(truncate_title)\n",
    "incollection['title'] = incollection['title'].apply(truncate_title)\n",
    "\n",
    "inproceeding['booktitle'] = inproceeding['booktitle'].apply(truncate_title)\n",
    "incollection['booktitle'] = incollection['booktitle'].apply(truncate_title)\n",
    "\n",
    "inproceeding['ee'] = inproceeding['ee'].apply(truncate_title)\n",
    "incollection['ee'] = incollection['ee'].apply(truncate_title)\n"
   ]
  },
  {
   "cell_type": "code",
   "execution_count": 24,
   "metadata": {},
   "outputs": [
    {
     "data": {
      "text/plain": [
       "_key      11027254\n",
       "author    11027254\n",
       "_type     11027254\n",
       "dtype: int64"
      ]
     },
     "execution_count": 24,
     "metadata": {},
     "output_type": "execute_result"
    }
   ],
   "source": [
    "R_inproceeding_author = inproceeding.assign(author = inproceeding['author'].str.split('::')).explode('author')\n",
    "R_inproceeding_author.drop(columns=['mdate', 'title','year', 'crossref', 'booktitle','ee','_url','_type'],inplace=True)\n",
    "R_inproceeding_author.dropna(inplace=True)\n",
    "R_inproceeding_author.count()"
   ]
  },
  {
   "cell_type": "code",
   "execution_count": 25,
   "metadata": {},
   "outputs": [
    {
     "data": {
      "text/plain": [
       "_key      139647\n",
       "author    139647\n",
       "_type     139647\n",
       "dtype: int64"
      ]
     },
     "execution_count": 25,
     "metadata": {},
     "output_type": "execute_result"
    }
   ],
   "source": [
    "R_incollection_author = incollection.assign(author = incollection['author'].str.split('::')).explode('author')\n",
    "R_incollection_author.drop(columns=['mdate', 'title','year', 'crossref', 'booktitle','ee','_url','_type'],inplace=True)\n",
    "R_incollection_author.dropna(inplace=True)\n",
    "R_incollection_author.count()"
   ]
  },
  {
   "cell_type": "code",
   "execution_count": 28,
   "metadata": {},
   "outputs": [],
   "source": [
    "inproceeding.drop(columns=['author'], inplace=True)\n",
    "inproceeding.to_csv('csv_files/inproceedings.csv', index=False)\n",
    "\n",
    "incollection.drop(columns=['author'], inplace=True)\n",
    "incollection.to_csv('csv_files/incollection.csv', index=False)"
   ]
  },
  {
   "cell_type": "code",
   "execution_count": 29,
   "metadata": {},
   "outputs": [],
   "source": [
    "del inproceeding, incollection"
   ]
  },
  {
   "cell_type": "markdown",
   "metadata": {},
   "source": [
    "## masterthesis.csv and phdthesis.csv"
   ]
  },
  {
   "cell_type": "code",
   "execution_count": 30,
   "metadata": {},
   "outputs": [],
   "source": [
    "master = pd.read_csv('csv_files/mastersthesis.csv')\n",
    "phd = pd.read_csv('csv_files/phdthesis.csv')"
   ]
  },
  {
   "cell_type": "code",
   "execution_count": 31,
   "metadata": {},
   "outputs": [
    {
     "name": "stdout",
     "output_type": "stream",
     "text": [
      "_key      116669\n",
      "mdate     116669\n",
      "title     116669\n",
      "author    116668\n",
      "school    116628\n",
      "year      116669\n",
      "ee        114964\n",
      "_type     116669\n",
      "dtype: int64\n",
      "_key      21\n",
      "mdate     21\n",
      "title     21\n",
      "author    21\n",
      "school    21\n",
      "year      21\n",
      "ee        16\n",
      "_type     21\n",
      "dtype: int64\n"
     ]
    }
   ],
   "source": [
    "master.rename(columns = {'key':'_key'}, inplace=True)\n",
    "phd.rename(columns = {'key':'_key'}, inplace=True)\n",
    "master['_type'] = 'mastersthesis'\n",
    "phd['_type'] = 'phdthesis'\n",
    "print(phd.count())\n",
    "print(master.count())"
   ]
  },
  {
   "cell_type": "code",
   "execution_count": 32,
   "metadata": {},
   "outputs": [],
   "source": [
    "def truncate_title(title):\n",
    "    title = str(title)\n",
    "    if len(title) > 255:\n",
    "        return title[:255]\n",
    "    else:\n",
    "        return title\n",
    "\n",
    "# 应用截断函数到 'title' 列\n",
    "master['title'] = master['title'].apply(truncate_title)\n",
    "phd['title'] = phd['title'].apply(truncate_title)\n",
    "master['ee'] = master['ee'].apply(truncate_title)\n",
    "phd['ee'] = phd['ee'].apply(truncate_title)\n"
   ]
  },
  {
   "cell_type": "code",
   "execution_count": 35,
   "metadata": {},
   "outputs": [
    {
     "data": {
      "text/plain": [
       "_key      21\n",
       "author    21\n",
       "dtype: int64"
      ]
     },
     "execution_count": 35,
     "metadata": {},
     "output_type": "execute_result"
    }
   ],
   "source": [
    "R_master_author = master.assign(author = master['author'].str.split('::')).explode('author')\n",
    "R_master_author.drop(columns=['mdate', 'title','year', 'school','ee','_type'],inplace=True)\n",
    "R_master_author.dropna(inplace=True)\n",
    "R_master_author.count()"
   ]
  },
  {
   "cell_type": "code",
   "execution_count": 36,
   "metadata": {},
   "outputs": [
    {
     "data": {
      "text/plain": [
       "_key      116809\n",
       "author    116809\n",
       "dtype: int64"
      ]
     },
     "execution_count": 36,
     "metadata": {},
     "output_type": "execute_result"
    }
   ],
   "source": [
    "R_phd_author = phd.assign(author = phd['author'].str.split('::')).explode('author')\n",
    "R_phd_author.drop(columns=['mdate', 'title','year', 'school','ee','_type'],inplace=True)\n",
    "R_phd_author.dropna(inplace=True)\n",
    "R_phd_author.count()"
   ]
  },
  {
   "cell_type": "code",
   "execution_count": 40,
   "metadata": {},
   "outputs": [],
   "source": [
    "master.drop(columns=['author'], inplace=True)\n",
    "master.to_csv('csv_files/mastersthesis.csv', index=False)\n",
    "\n",
    "phd.drop(columns=['author'], inplace=True)\n",
    "phd.to_csv('csv_files/phdthesis.csv', index=False)\n",
    "\n",
    "del master, phd"
   ]
  },
  {
   "cell_type": "markdown",
   "metadata": {},
   "source": [
    "## www"
   ]
  },
  {
   "cell_type": "code",
   "execution_count": 41,
   "metadata": {},
   "outputs": [],
   "source": [
    "www = pd.read_csv('csv_files/www.csv')"
   ]
  },
  {
   "cell_type": "code",
   "execution_count": 42,
   "metadata": {},
   "outputs": [
    {
     "data": {
      "text/plain": [
       "_key      3426343\n",
       "author    3426343\n",
       "dtype: int64"
      ]
     },
     "execution_count": 42,
     "metadata": {},
     "output_type": "execute_result"
    }
   ],
   "source": [
    "www.rename(columns = {'key':'_key'}, inplace=True)\n",
    "R_www_author = www.assign(author = www['author'].str.split('::')).explode('author')\n",
    "R_www_author.drop(columns=['mdate', 'title'],inplace=True)\n",
    "R_www_author.dropna(inplace=True)\n",
    "R_www_author.count()"
   ]
  },
  {
   "cell_type": "code",
   "execution_count": 43,
   "metadata": {},
   "outputs": [],
   "source": [
    "www.drop(columns=['author'], inplace=True)\n",
    "www.to_csv('csv_files/www.csv', index=False)"
   ]
  },
  {
   "cell_type": "markdown",
   "metadata": {},
   "source": [
    "## R_editor, R_author"
   ]
  },
  {
   "cell_type": "code",
   "execution_count": 44,
   "metadata": {},
   "outputs": [
    {
     "name": "stdout",
     "output_type": "stream",
     "text": [
      "_key      141330\n",
      "editor    141330\n",
      "dtype: int64\n"
     ]
    },
    {
     "data": {
      "text/html": [
       "<div>\n",
       "<style scoped>\n",
       "    .dataframe tbody tr th:only-of-type {\n",
       "        vertical-align: middle;\n",
       "    }\n",
       "\n",
       "    .dataframe tbody tr th {\n",
       "        vertical-align: top;\n",
       "    }\n",
       "\n",
       "    .dataframe thead th {\n",
       "        text-align: right;\n",
       "    }\n",
       "</style>\n",
       "<table border=\"1\" class=\"dataframe\">\n",
       "  <thead>\n",
       "    <tr style=\"text-align: right;\">\n",
       "      <th></th>\n",
       "      <th>_key</th>\n",
       "      <th>editor</th>\n",
       "    </tr>\n",
       "  </thead>\n",
       "  <tbody>\n",
       "    <tr>\n",
       "      <th>0</th>\n",
       "      <td>tr/ac/50</td>\n",
       "      <td>Helen Bolke-Hermanns</td>\n",
       "    </tr>\n",
       "    <tr>\n",
       "      <th>1</th>\n",
       "      <td>tr/ac/50</td>\n",
       "      <td>Joost-Pieter Katoen</td>\n",
       "    </tr>\n",
       "    <tr>\n",
       "      <th>2</th>\n",
       "      <td>tr/ac/50</td>\n",
       "      <td>Klaus Indermark</td>\n",
       "    </tr>\n",
       "    <tr>\n",
       "      <th>3</th>\n",
       "      <td>tr/ac/50</td>\n",
       "      <td>Stefan Kowalewski</td>\n",
       "    </tr>\n",
       "    <tr>\n",
       "      <th>4</th>\n",
       "      <td>tr/ac/50</td>\n",
       "      <td>Thomas Noll 0001</td>\n",
       "    </tr>\n",
       "  </tbody>\n",
       "</table>\n",
       "</div>"
      ],
      "text/plain": [
       "       _key                editor\n",
       "0  tr/ac/50  Helen Bolke-Hermanns\n",
       "1  tr/ac/50   Joost-Pieter Katoen\n",
       "2  tr/ac/50       Klaus Indermark\n",
       "3  tr/ac/50     Stefan Kowalewski\n",
       "4  tr/ac/50      Thomas Noll 0001"
      ]
     },
     "execution_count": 44,
     "metadata": {},
     "output_type": "execute_result"
    }
   ],
   "source": [
    "R_editor = pd.concat([R_book_editor, R_proceeding_editor], ignore_index=True)\n",
    "print(R_editor.count())\n",
    "R_editor.head()"
   ]
  },
  {
   "cell_type": "code",
   "execution_count": 45,
   "metadata": {},
   "outputs": [],
   "source": [
    "R_editor.to_csv('csv_files/R_editor.csv', index=False)"
   ]
  },
  {
   "cell_type": "code",
   "execution_count": 46,
   "metadata": {},
   "outputs": [
    {
     "name": "stdout",
     "output_type": "stream",
     "text": [
      "_key      25389959\n",
      "author    25389959\n",
      "dtype: int64\n"
     ]
    },
    {
     "data": {
      "text/html": [
       "<div>\n",
       "<style scoped>\n",
       "    .dataframe tbody tr th:only-of-type {\n",
       "        vertical-align: middle;\n",
       "    }\n",
       "\n",
       "    .dataframe tbody tr th {\n",
       "        vertical-align: top;\n",
       "    }\n",
       "\n",
       "    .dataframe thead th {\n",
       "        text-align: right;\n",
       "    }\n",
       "</style>\n",
       "<table border=\"1\" class=\"dataframe\">\n",
       "  <thead>\n",
       "    <tr style=\"text-align: right;\">\n",
       "      <th></th>\n",
       "      <th>_key</th>\n",
       "      <th>author</th>\n",
       "    </tr>\n",
       "  </thead>\n",
       "  <tbody>\n",
       "    <tr>\n",
       "      <th>0</th>\n",
       "      <td>tr/meltdown/s18</td>\n",
       "      <td>Paul Kocher</td>\n",
       "    </tr>\n",
       "    <tr>\n",
       "      <th>1</th>\n",
       "      <td>tr/meltdown/s18</td>\n",
       "      <td>Daniel Genkin</td>\n",
       "    </tr>\n",
       "    <tr>\n",
       "      <th>2</th>\n",
       "      <td>tr/meltdown/s18</td>\n",
       "      <td>Daniel Gruss</td>\n",
       "    </tr>\n",
       "    <tr>\n",
       "      <th>3</th>\n",
       "      <td>tr/meltdown/s18</td>\n",
       "      <td>Werner Haas 0004</td>\n",
       "    </tr>\n",
       "    <tr>\n",
       "      <th>4</th>\n",
       "      <td>tr/meltdown/s18</td>\n",
       "      <td>Mike Hamburg</td>\n",
       "    </tr>\n",
       "  </tbody>\n",
       "</table>\n",
       "</div>"
      ],
      "text/plain": [
       "              _key            author\n",
       "0  tr/meltdown/s18       Paul Kocher\n",
       "1  tr/meltdown/s18     Daniel Genkin\n",
       "2  tr/meltdown/s18      Daniel Gruss\n",
       "3  tr/meltdown/s18  Werner Haas 0004\n",
       "4  tr/meltdown/s18      Mike Hamburg"
      ]
     },
     "execution_count": 46,
     "metadata": {},
     "output_type": "execute_result"
    }
   ],
   "source": [
    "R_author = pd.concat([R_article_author, R_inproceeding_author, R_incollection_author, R_master_author, R_phd_author, R_www_author], ignore_index=True)\n",
    "print(R_author.count())\n",
    "R_author.head()"
   ]
  },
  {
   "cell_type": "code",
   "execution_count": 47,
   "metadata": {},
   "outputs": [],
   "source": [
    "R_author.to_csv('csv_files/R_author.csv', index=False)"
   ]
  },
  {
   "cell_type": "code",
   "execution_count": 48,
   "metadata": {},
   "outputs": [],
   "source": [
    "del R_editor, R_author"
   ]
  }
 ],
 "metadata": {
  "kernelspec": {
   "display_name": "Python 3",
   "language": "python",
   "name": "python3"
  },
  "language_info": {
   "codemirror_mode": {
    "name": "ipython",
    "version": 3
   },
   "file_extension": ".py",
   "mimetype": "text/x-python",
   "name": "python",
   "nbconvert_exporter": "python",
   "pygments_lexer": "ipython3",
   "version": "3.8.5"
  }
 },
 "nbformat": 4,
 "nbformat_minor": 2
}
