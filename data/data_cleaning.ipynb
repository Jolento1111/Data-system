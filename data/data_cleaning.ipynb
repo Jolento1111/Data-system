{
 "cells": [
  {
   "cell_type": "markdown",
   "metadata": {},
   "source": [
    "# Data Cleaning"
   ]
  },
  {
   "cell_type": "code",
   "execution_count": 11,
   "metadata": {},
   "outputs": [],
   "source": [
    "import pandas as pd"
   ]
  },
  {
   "cell_type": "markdown",
   "metadata": {},
   "source": [
    "### article.csv"
   ]
  },
  {
   "cell_type": "code",
   "execution_count": 3,
   "metadata": {},
   "outputs": [],
   "source": [
    "article = pd.read_csv('csv_files/article.csv',index_col='key')"
   ]
  },
  {
   "cell_type": "code",
   "execution_count": 4,
   "metadata": {},
   "outputs": [
    {
     "data": {
      "text/plain": [
       "mdate       3269592\n",
       "publtype     586879\n",
       "title       3269591\n",
       "author      3250036\n",
       "year        3269589\n",
       "journal     3269587\n",
       "ee          3245657\n",
       "url         3269041\n",
       "dtype: int64"
      ]
     },
     "execution_count": 4,
     "metadata": {},
     "output_type": "execute_result"
    }
   ],
   "source": [
    "article.count()"
   ]
  },
  {
   "cell_type": "code",
   "execution_count": 5,
   "metadata": {},
   "outputs": [
    {
     "name": "stdout",
     "output_type": "stream",
     "text": [
      "<class 'str'>\n"
     ]
    },
    {
     "name": "stderr",
     "output_type": "stream",
     "text": [
      "C:\\Users\\R14\\AppData\\Local\\Temp\\ipykernel_21072\\2182145096.py:2: FutureWarning: Series.__getitem__ treating keys as positions is deprecated. In a future version, integer keys will always be treated as labels (consistent with DataFrame behavior). To access a value by position, use `ser.iloc[pos]`\n",
      "  print(type(article['title'][0]))\n"
     ]
    }
   ],
   "source": [
    "article\n",
    "print(type(article['title'][0]))"
   ]
  },
  {
   "cell_type": "code",
   "execution_count": 6,
   "metadata": {},
   "outputs": [],
   "source": [
    "def truncate_title(title):\n",
    "    title = str(title)\n",
    "    if len(title) > 255:\n",
    "        return title[:255]\n",
    "    else:\n",
    "        return title\n",
    "\n",
    "# 应用截断函数到 'title' 列\n",
    "article['title'] = article['title'].apply(truncate_title)\n"
   ]
  },
  {
   "cell_type": "code",
   "execution_count": 7,
   "metadata": {},
   "outputs": [
    {
     "data": {
      "text/plain": [
       "255"
      ]
     },
     "execution_count": 7,
     "metadata": {},
     "output_type": "execute_result"
    }
   ],
   "source": [
    "max_length_index = article['title'].str.len().idxmax()\n",
    "max_string_value = article['title'][max_length_index]\n",
    "max_string_value\n",
    "len(max_string_value)\n"
   ]
  },
  {
   "cell_type": "code",
   "execution_count": 8,
   "metadata": {},
   "outputs": [],
   "source": [
    "article_spilt_author = article.assign(author = article['author'].str.split('::')).explode('author')"
   ]
  },
  {
   "cell_type": "code",
   "execution_count": 9,
   "metadata": {},
   "outputs": [
    {
     "data": {
      "text/plain": [
       "mdate       10699441\n",
       "publtype     2132821\n",
       "title       10699441\n",
       "author      10679885\n",
       "year        10699438\n",
       "journal     10699434\n",
       "ee          10655873\n",
       "url         10698484\n",
       "dtype: int64"
      ]
     },
     "execution_count": 9,
     "metadata": {},
     "output_type": "execute_result"
    }
   ],
   "source": [
    "article_spilt_author.count()"
   ]
  },
  {
   "cell_type": "code",
   "execution_count": 10,
   "metadata": {},
   "outputs": [],
   "source": [
    "article_spilt_author.to_csv('csv_files/cleaned_article.csv')"
   ]
  },
  {
   "cell_type": "markdown",
   "metadata": {},
   "source": [
    "# book.csv"
   ]
  },
  {
   "cell_type": "code",
   "execution_count": 23,
   "metadata": {},
   "outputs": [],
   "source": [
    "book = pd.read_csv('csv_files/book.csv',index_col='key')"
   ]
  },
  {
   "cell_type": "code",
   "execution_count": 24,
   "metadata": {},
   "outputs": [],
   "source": [
    "def truncate_title(title):\n",
    "    title = str(title)\n",
    "    if len(title) > 255:\n",
    "        return title[:255]\n",
    "    else:\n",
    "        return title\n",
    "\n",
    "# 应用截断函数到 'title' 列\n",
    "book['title'] = book['title'].apply(truncate_title)"
   ]
  },
  {
   "cell_type": "code",
   "execution_count": 25,
   "metadata": {},
   "outputs": [],
   "source": [
    "book_spilt_author = book.assign(editor = book['editor'].str.split('::')).explode('editor')"
   ]
  },
  {
   "cell_type": "code",
   "execution_count": 26,
   "metadata": {},
   "outputs": [
    {
     "data": {
      "text/html": [
       "<div>\n",
       "<style scoped>\n",
       "    .dataframe tbody tr th:only-of-type {\n",
       "        vertical-align: middle;\n",
       "    }\n",
       "\n",
       "    .dataframe tbody tr th {\n",
       "        vertical-align: top;\n",
       "    }\n",
       "\n",
       "    .dataframe thead th {\n",
       "        text-align: right;\n",
       "    }\n",
       "</style>\n",
       "<table border=\"1\" class=\"dataframe\">\n",
       "  <thead>\n",
       "    <tr style=\"text-align: right;\">\n",
       "      <th></th>\n",
       "      <th>mdate</th>\n",
       "      <th>title</th>\n",
       "      <th>editor</th>\n",
       "      <th>year</th>\n",
       "      <th>publisher</th>\n",
       "      <th>booktitle</th>\n",
       "      <th>volume</th>\n",
       "      <th>series</th>\n",
       "      <th>ee</th>\n",
       "      <th>url</th>\n",
       "      <th>isbn</th>\n",
       "    </tr>\n",
       "    <tr>\n",
       "      <th>key</th>\n",
       "      <th></th>\n",
       "      <th></th>\n",
       "      <th></th>\n",
       "      <th></th>\n",
       "      <th></th>\n",
       "      <th></th>\n",
       "      <th></th>\n",
       "      <th></th>\n",
       "      <th></th>\n",
       "      <th></th>\n",
       "      <th></th>\n",
       "    </tr>\n",
       "  </thead>\n",
       "  <tbody>\n",
       "    <tr>\n",
       "      <th>tr/ac/50</th>\n",
       "      <td>2023-08-31</td>\n",
       "      <td>50 Jahre Studiengang Informatik an der RWTH</td>\n",
       "      <td>Helen Bolke-Hermanns</td>\n",
       "      <td>2022</td>\n",
       "      <td>RWTH Aachen, Fachgruppe Informatik in der Faku...</td>\n",
       "      <td>NaN</td>\n",
       "      <td>NaN</td>\n",
       "      <td>NaN</td>\n",
       "      <td>https://www.informatik.rwth-aachen.de/cms/info...</td>\n",
       "      <td>NaN</td>\n",
       "      <td>NaN</td>\n",
       "    </tr>\n",
       "    <tr>\n",
       "      <th>tr/ac/50</th>\n",
       "      <td>2023-08-31</td>\n",
       "      <td>50 Jahre Studiengang Informatik an der RWTH</td>\n",
       "      <td>Joost-Pieter Katoen</td>\n",
       "      <td>2022</td>\n",
       "      <td>RWTH Aachen, Fachgruppe Informatik in der Faku...</td>\n",
       "      <td>NaN</td>\n",
       "      <td>NaN</td>\n",
       "      <td>NaN</td>\n",
       "      <td>https://www.informatik.rwth-aachen.de/cms/info...</td>\n",
       "      <td>NaN</td>\n",
       "      <td>NaN</td>\n",
       "    </tr>\n",
       "    <tr>\n",
       "      <th>tr/ac/50</th>\n",
       "      <td>2023-08-31</td>\n",
       "      <td>50 Jahre Studiengang Informatik an der RWTH</td>\n",
       "      <td>Klaus Indermark</td>\n",
       "      <td>2022</td>\n",
       "      <td>RWTH Aachen, Fachgruppe Informatik in der Faku...</td>\n",
       "      <td>NaN</td>\n",
       "      <td>NaN</td>\n",
       "      <td>NaN</td>\n",
       "      <td>https://www.informatik.rwth-aachen.de/cms/info...</td>\n",
       "      <td>NaN</td>\n",
       "      <td>NaN</td>\n",
       "    </tr>\n",
       "    <tr>\n",
       "      <th>tr/ac/50</th>\n",
       "      <td>2023-08-31</td>\n",
       "      <td>50 Jahre Studiengang Informatik an der RWTH</td>\n",
       "      <td>Stefan Kowalewski</td>\n",
       "      <td>2022</td>\n",
       "      <td>RWTH Aachen, Fachgruppe Informatik in der Faku...</td>\n",
       "      <td>NaN</td>\n",
       "      <td>NaN</td>\n",
       "      <td>NaN</td>\n",
       "      <td>https://www.informatik.rwth-aachen.de/cms/info...</td>\n",
       "      <td>NaN</td>\n",
       "      <td>NaN</td>\n",
       "    </tr>\n",
       "    <tr>\n",
       "      <th>tr/ac/50</th>\n",
       "      <td>2023-08-31</td>\n",
       "      <td>50 Jahre Studiengang Informatik an der RWTH</td>\n",
       "      <td>Thomas Noll 0001</td>\n",
       "      <td>2022</td>\n",
       "      <td>RWTH Aachen, Fachgruppe Informatik in der Faku...</td>\n",
       "      <td>NaN</td>\n",
       "      <td>NaN</td>\n",
       "      <td>NaN</td>\n",
       "      <td>https://www.informatik.rwth-aachen.de/cms/info...</td>\n",
       "      <td>NaN</td>\n",
       "      <td>NaN</td>\n",
       "    </tr>\n",
       "    <tr>\n",
       "      <th>...</th>\n",
       "      <td>...</td>\n",
       "      <td>...</td>\n",
       "      <td>...</td>\n",
       "      <td>...</td>\n",
       "      <td>...</td>\n",
       "      <td>...</td>\n",
       "      <td>...</td>\n",
       "      <td>...</td>\n",
       "      <td>...</td>\n",
       "      <td>...</td>\n",
       "      <td>...</td>\n",
       "    </tr>\n",
       "    <tr>\n",
       "      <th>phd/de/Hofmann2004a</th>\n",
       "      <td>2021-07-17</td>\n",
       "      <td>Wissensmanagement in IT-Unternehmensberatungen.</td>\n",
       "      <td>NaN</td>\n",
       "      <td>2004</td>\n",
       "      <td>Dt. Univ.-Verl., Wiesbaden, Germany</td>\n",
       "      <td>NaN</td>\n",
       "      <td>NaN</td>\n",
       "      <td>NaN</td>\n",
       "      <td>https://d-nb.info/97316641X</td>\n",
       "      <td>NaN</td>\n",
       "      <td>3-8244-8137-5</td>\n",
       "    </tr>\n",
       "    <tr>\n",
       "      <th>phd/de/Barth2009</th>\n",
       "      <td>2021-07-17</td>\n",
       "      <td>Entwicklung und Bewertung zeitkritischer Softw...</td>\n",
       "      <td>NaN</td>\n",
       "      <td>2009</td>\n",
       "      <td>Books on Demand, Norderstedt, Germany</td>\n",
       "      <td>NaN</td>\n",
       "      <td>NaN</td>\n",
       "      <td>NaN</td>\n",
       "      <td>http://www.bod.de/index.php?id=296&amp;objk_id=228...</td>\n",
       "      <td>NaN</td>\n",
       "      <td>978-3-8391-1157-4</td>\n",
       "    </tr>\n",
       "    <tr>\n",
       "      <th>phd/de/Schaden2007</th>\n",
       "      <td>2021-07-17</td>\n",
       "      <td>Fremdsprachlicher Akzent als Problem der Sprac...</td>\n",
       "      <td>NaN</td>\n",
       "      <td>2007</td>\n",
       "      <td>Shaker Media</td>\n",
       "      <td>NaN</td>\n",
       "      <td>NaN</td>\n",
       "      <td>NaN</td>\n",
       "      <td>https://d-nb.info/985692642</td>\n",
       "      <td>NaN</td>\n",
       "      <td>978-3-940459-04-6</td>\n",
       "    </tr>\n",
       "    <tr>\n",
       "      <th>phd/uk/Miguel2004</th>\n",
       "      <td>2021-07-17</td>\n",
       "      <td>Dynamic flexible constraint satisfaction and i...</td>\n",
       "      <td>NaN</td>\n",
       "      <td>2004</td>\n",
       "      <td>Springer</td>\n",
       "      <td>NaN</td>\n",
       "      <td>NaN</td>\n",
       "      <td>NaN</td>\n",
       "      <td>https://d-nb.info/969624166</td>\n",
       "      <td>NaN</td>\n",
       "      <td>1-85233-764-8</td>\n",
       "    </tr>\n",
       "    <tr>\n",
       "      <th>phd/it/Metelli21</th>\n",
       "      <td>2023-07-04</td>\n",
       "      <td>Exploiting environment configurability in rein...</td>\n",
       "      <td>NaN</td>\n",
       "      <td>2022</td>\n",
       "      <td>IOS Press</td>\n",
       "      <td>NaN</td>\n",
       "      <td>361</td>\n",
       "      <td>Frontiers in Artificial Intelligence and Appli...</td>\n",
       "      <td>https://doi.org/10.3233/FAIA361::https://hdl.h...</td>\n",
       "      <td>NaN</td>\n",
       "      <td>978-1-64368-362-1::978-1-64368-363-8</td>\n",
       "    </tr>\n",
       "  </tbody>\n",
       "</table>\n",
       "<p>24302 rows × 11 columns</p>\n",
       "</div>"
      ],
      "text/plain": [
       "                          mdate  \\\n",
       "key                               \n",
       "tr/ac/50             2023-08-31   \n",
       "tr/ac/50             2023-08-31   \n",
       "tr/ac/50             2023-08-31   \n",
       "tr/ac/50             2023-08-31   \n",
       "tr/ac/50             2023-08-31   \n",
       "...                         ...   \n",
       "phd/de/Hofmann2004a  2021-07-17   \n",
       "phd/de/Barth2009     2021-07-17   \n",
       "phd/de/Schaden2007   2021-07-17   \n",
       "phd/uk/Miguel2004    2021-07-17   \n",
       "phd/it/Metelli21     2023-07-04   \n",
       "\n",
       "                                                                 title  \\\n",
       "key                                                                      \n",
       "tr/ac/50                   50 Jahre Studiengang Informatik an der RWTH   \n",
       "tr/ac/50                   50 Jahre Studiengang Informatik an der RWTH   \n",
       "tr/ac/50                   50 Jahre Studiengang Informatik an der RWTH   \n",
       "tr/ac/50                   50 Jahre Studiengang Informatik an der RWTH   \n",
       "tr/ac/50                   50 Jahre Studiengang Informatik an der RWTH   \n",
       "...                                                                ...   \n",
       "phd/de/Hofmann2004a    Wissensmanagement in IT-Unternehmensberatungen.   \n",
       "phd/de/Barth2009     Entwicklung und Bewertung zeitkritischer Softw...   \n",
       "phd/de/Schaden2007   Fremdsprachlicher Akzent als Problem der Sprac...   \n",
       "phd/uk/Miguel2004    Dynamic flexible constraint satisfaction and i...   \n",
       "phd/it/Metelli21     Exploiting environment configurability in rein...   \n",
       "\n",
       "                                   editor  year  \\\n",
       "key                                               \n",
       "tr/ac/50             Helen Bolke-Hermanns  2022   \n",
       "tr/ac/50              Joost-Pieter Katoen  2022   \n",
       "tr/ac/50                  Klaus Indermark  2022   \n",
       "tr/ac/50                Stefan Kowalewski  2022   \n",
       "tr/ac/50                 Thomas Noll 0001  2022   \n",
       "...                                   ...   ...   \n",
       "phd/de/Hofmann2004a                   NaN  2004   \n",
       "phd/de/Barth2009                      NaN  2009   \n",
       "phd/de/Schaden2007                    NaN  2007   \n",
       "phd/uk/Miguel2004                     NaN  2004   \n",
       "phd/it/Metelli21                      NaN  2022   \n",
       "\n",
       "                                                             publisher  \\\n",
       "key                                                                      \n",
       "tr/ac/50             RWTH Aachen, Fachgruppe Informatik in der Faku...   \n",
       "tr/ac/50             RWTH Aachen, Fachgruppe Informatik in der Faku...   \n",
       "tr/ac/50             RWTH Aachen, Fachgruppe Informatik in der Faku...   \n",
       "tr/ac/50             RWTH Aachen, Fachgruppe Informatik in der Faku...   \n",
       "tr/ac/50             RWTH Aachen, Fachgruppe Informatik in der Faku...   \n",
       "...                                                                ...   \n",
       "phd/de/Hofmann2004a                Dt. Univ.-Verl., Wiesbaden, Germany   \n",
       "phd/de/Barth2009                 Books on Demand, Norderstedt, Germany   \n",
       "phd/de/Schaden2007                                        Shaker Media   \n",
       "phd/uk/Miguel2004                                             Springer   \n",
       "phd/it/Metelli21                                             IOS Press   \n",
       "\n",
       "                    booktitle volume  \\\n",
       "key                                    \n",
       "tr/ac/50                  NaN    NaN   \n",
       "tr/ac/50                  NaN    NaN   \n",
       "tr/ac/50                  NaN    NaN   \n",
       "tr/ac/50                  NaN    NaN   \n",
       "tr/ac/50                  NaN    NaN   \n",
       "...                       ...    ...   \n",
       "phd/de/Hofmann2004a       NaN    NaN   \n",
       "phd/de/Barth2009          NaN    NaN   \n",
       "phd/de/Schaden2007        NaN    NaN   \n",
       "phd/uk/Miguel2004         NaN    NaN   \n",
       "phd/it/Metelli21          NaN    361   \n",
       "\n",
       "                                                                series  \\\n",
       "key                                                                      \n",
       "tr/ac/50                                                           NaN   \n",
       "tr/ac/50                                                           NaN   \n",
       "tr/ac/50                                                           NaN   \n",
       "tr/ac/50                                                           NaN   \n",
       "tr/ac/50                                                           NaN   \n",
       "...                                                                ...   \n",
       "phd/de/Hofmann2004a                                                NaN   \n",
       "phd/de/Barth2009                                                   NaN   \n",
       "phd/de/Schaden2007                                                 NaN   \n",
       "phd/uk/Miguel2004                                                  NaN   \n",
       "phd/it/Metelli21     Frontiers in Artificial Intelligence and Appli...   \n",
       "\n",
       "                                                                    ee  url  \\\n",
       "key                                                                           \n",
       "tr/ac/50             https://www.informatik.rwth-aachen.de/cms/info...  NaN   \n",
       "tr/ac/50             https://www.informatik.rwth-aachen.de/cms/info...  NaN   \n",
       "tr/ac/50             https://www.informatik.rwth-aachen.de/cms/info...  NaN   \n",
       "tr/ac/50             https://www.informatik.rwth-aachen.de/cms/info...  NaN   \n",
       "tr/ac/50             https://www.informatik.rwth-aachen.de/cms/info...  NaN   \n",
       "...                                                                ...  ...   \n",
       "phd/de/Hofmann2004a                        https://d-nb.info/97316641X  NaN   \n",
       "phd/de/Barth2009     http://www.bod.de/index.php?id=296&objk_id=228...  NaN   \n",
       "phd/de/Schaden2007                         https://d-nb.info/985692642  NaN   \n",
       "phd/uk/Miguel2004                          https://d-nb.info/969624166  NaN   \n",
       "phd/it/Metelli21     https://doi.org/10.3233/FAIA361::https://hdl.h...  NaN   \n",
       "\n",
       "                                                     isbn  \n",
       "key                                                        \n",
       "tr/ac/50                                              NaN  \n",
       "tr/ac/50                                              NaN  \n",
       "tr/ac/50                                              NaN  \n",
       "tr/ac/50                                              NaN  \n",
       "tr/ac/50                                              NaN  \n",
       "...                                                   ...  \n",
       "phd/de/Hofmann2004a                         3-8244-8137-5  \n",
       "phd/de/Barth2009                        978-3-8391-1157-4  \n",
       "phd/de/Schaden2007                      978-3-940459-04-6  \n",
       "phd/uk/Miguel2004                           1-85233-764-8  \n",
       "phd/it/Metelli21     978-1-64368-362-1::978-1-64368-363-8  \n",
       "\n",
       "[24302 rows x 11 columns]"
      ]
     },
     "execution_count": 26,
     "metadata": {},
     "output_type": "execute_result"
    }
   ],
   "source": [
    "book_spilt_author"
   ]
  },
  {
   "cell_type": "code",
   "execution_count": 27,
   "metadata": {},
   "outputs": [
    {
     "data": {
      "text/plain": [
       "mdate        24302\n",
       "title        24302\n",
       "editor        6516\n",
       "year         24302\n",
       "publisher    22449\n",
       "booktitle     4085\n",
       "volume        6243\n",
       "series       11462\n",
       "ee           17169\n",
       "url           6533\n",
       "isbn         21179\n",
       "dtype: int64"
      ]
     },
     "execution_count": 27,
     "metadata": {},
     "output_type": "execute_result"
    }
   ],
   "source": [
    "book_spilt_author.count()"
   ]
  },
  {
   "cell_type": "code",
   "execution_count": 39,
   "metadata": {},
   "outputs": [],
   "source": [
    "book_spilt_author.to_csv('csv_files/cleaned_book.csv')"
   ]
  },
  {
   "cell_type": "markdown",
   "metadata": {},
   "source": [
    "## proceeding.csv"
   ]
  },
  {
   "cell_type": "code",
   "execution_count": 30,
   "metadata": {},
   "outputs": [],
   "source": [
    "proceeding = pd.read_csv('csv_files/proceedings.csv',index_col='key')"
   ]
  },
  {
   "cell_type": "code",
   "execution_count": 31,
   "metadata": {},
   "outputs": [],
   "source": [
    "def truncate_title(title):\n",
    "    title = str(title)\n",
    "    if len(title) > 255:\n",
    "        return title[:255]\n",
    "    else:\n",
    "        return title\n",
    "\n",
    "# 应用截断函数到 'title' 列\n",
    "proceeding['title'] = proceeding['title'].apply(truncate_title)"
   ]
  },
  {
   "cell_type": "code",
   "execution_count": 36,
   "metadata": {},
   "outputs": [],
   "source": [
    "proceeding_spilt_author = proceeding.assign(editor = proceeding['editor'].str.split('::')).explode('editor')"
   ]
  },
  {
   "cell_type": "code",
   "execution_count": 37,
   "metadata": {},
   "outputs": [
    {
     "data": {
      "text/plain": [
       "mdate        148900\n",
       "title        148900\n",
       "editor       134814\n",
       "year         148900\n",
       "publisher    144710\n",
       "booktitle    147714\n",
       "volume        82319\n",
       "series        83469\n",
       "ee           135164\n",
       "url          148770\n",
       "isbn         122129\n",
       "dtype: int64"
      ]
     },
     "execution_count": 37,
     "metadata": {},
     "output_type": "execute_result"
    }
   ],
   "source": [
    "proceeding_spilt_author.count()"
   ]
  },
  {
   "cell_type": "code",
   "execution_count": 38,
   "metadata": {},
   "outputs": [
    {
     "data": {
      "text/html": [
       "<div>\n",
       "<style scoped>\n",
       "    .dataframe tbody tr th:only-of-type {\n",
       "        vertical-align: middle;\n",
       "    }\n",
       "\n",
       "    .dataframe tbody tr th {\n",
       "        vertical-align: top;\n",
       "    }\n",
       "\n",
       "    .dataframe thead th {\n",
       "        text-align: right;\n",
       "    }\n",
       "</style>\n",
       "<table border=\"1\" class=\"dataframe\">\n",
       "  <thead>\n",
       "    <tr style=\"text-align: right;\">\n",
       "      <th></th>\n",
       "      <th>mdate</th>\n",
       "      <th>title</th>\n",
       "      <th>editor</th>\n",
       "      <th>year</th>\n",
       "      <th>publisher</th>\n",
       "      <th>booktitle</th>\n",
       "      <th>volume</th>\n",
       "      <th>series</th>\n",
       "      <th>ee</th>\n",
       "      <th>url</th>\n",
       "      <th>isbn</th>\n",
       "    </tr>\n",
       "    <tr>\n",
       "      <th>key</th>\n",
       "      <th></th>\n",
       "      <th></th>\n",
       "      <th></th>\n",
       "      <th></th>\n",
       "      <th></th>\n",
       "      <th></th>\n",
       "      <th></th>\n",
       "      <th></th>\n",
       "      <th></th>\n",
       "      <th></th>\n",
       "      <th></th>\n",
       "    </tr>\n",
       "  </thead>\n",
       "  <tbody>\n",
       "    <tr>\n",
       "      <th>tr/trier/MI99-17</th>\n",
       "      <td>2019-09-07</td>\n",
       "      <td>MMB '99, Messung, Modellierung und Bewertung v...</td>\n",
       "      <td>Dieter Baum</td>\n",
       "      <td>1999</td>\n",
       "      <td>NaN</td>\n",
       "      <td>MMB (Kurzvorträge)</td>\n",
       "      <td>99-16</td>\n",
       "      <td>Universität Trier, Mathematik/Informatik, Fors...</td>\n",
       "      <td>NaN</td>\n",
       "      <td>db/conf/mmb/mmb99k.html</td>\n",
       "      <td>NaN</td>\n",
       "    </tr>\n",
       "    <tr>\n",
       "      <th>tr/trier/MI99-17</th>\n",
       "      <td>2019-09-07</td>\n",
       "      <td>MMB '99, Messung, Modellierung und Bewertung v...</td>\n",
       "      <td>Norbert Th. Müller</td>\n",
       "      <td>1999</td>\n",
       "      <td>NaN</td>\n",
       "      <td>MMB (Kurzvorträge)</td>\n",
       "      <td>99-16</td>\n",
       "      <td>Universität Trier, Mathematik/Informatik, Fors...</td>\n",
       "      <td>NaN</td>\n",
       "      <td>db/conf/mmb/mmb99k.html</td>\n",
       "      <td>NaN</td>\n",
       "    </tr>\n",
       "    <tr>\n",
       "      <th>tr/trier/MI99-17</th>\n",
       "      <td>2019-09-07</td>\n",
       "      <td>MMB '99, Messung, Modellierung und Bewertung v...</td>\n",
       "      <td>Richard Rödler</td>\n",
       "      <td>1999</td>\n",
       "      <td>NaN</td>\n",
       "      <td>MMB (Kurzvorträge)</td>\n",
       "      <td>99-16</td>\n",
       "      <td>Universität Trier, Mathematik/Informatik, Fors...</td>\n",
       "      <td>NaN</td>\n",
       "      <td>db/conf/mmb/mmb99k.html</td>\n",
       "      <td>NaN</td>\n",
       "    </tr>\n",
       "    <tr>\n",
       "      <th>reference/genetic/2015</th>\n",
       "      <td>2020-03-27</td>\n",
       "      <td>Handbook of Genetic Programming Applications</td>\n",
       "      <td>Amir Hossein Gandomi</td>\n",
       "      <td>2015</td>\n",
       "      <td>Springer</td>\n",
       "      <td>NaN</td>\n",
       "      <td>NaN</td>\n",
       "      <td>NaN</td>\n",
       "      <td>https://doi.org/10.1007/978-3-319-20883-1</td>\n",
       "      <td>db/reference/genetic/genetic2015.html</td>\n",
       "      <td>978-3-319-20882-4</td>\n",
       "    </tr>\n",
       "    <tr>\n",
       "      <th>reference/genetic/2015</th>\n",
       "      <td>2020-03-27</td>\n",
       "      <td>Handbook of Genetic Programming Applications</td>\n",
       "      <td>Amir Hossein Alavi</td>\n",
       "      <td>2015</td>\n",
       "      <td>Springer</td>\n",
       "      <td>NaN</td>\n",
       "      <td>NaN</td>\n",
       "      <td>NaN</td>\n",
       "      <td>https://doi.org/10.1007/978-3-319-20883-1</td>\n",
       "      <td>db/reference/genetic/genetic2015.html</td>\n",
       "      <td>978-3-319-20882-4</td>\n",
       "    </tr>\n",
       "    <tr>\n",
       "      <th>...</th>\n",
       "      <td>...</td>\n",
       "      <td>...</td>\n",
       "      <td>...</td>\n",
       "      <td>...</td>\n",
       "      <td>...</td>\n",
       "      <td>...</td>\n",
       "      <td>...</td>\n",
       "      <td>...</td>\n",
       "      <td>...</td>\n",
       "      <td>...</td>\n",
       "      <td>...</td>\n",
       "    </tr>\n",
       "    <tr>\n",
       "      <th>conf/jsspp/1999</th>\n",
       "      <td>2019-05-14</td>\n",
       "      <td>Job Scheduling Strategies for Parallel Process...</td>\n",
       "      <td>Larry Rudolph</td>\n",
       "      <td>1999</td>\n",
       "      <td>Springer</td>\n",
       "      <td>JSSPP</td>\n",
       "      <td>1659</td>\n",
       "      <td>Lecture Notes in Computer Science</td>\n",
       "      <td>https://doi.org/10.1007/3-540-47954-6</td>\n",
       "      <td>db/conf/ipps/jsspp1999.html</td>\n",
       "      <td>3-540-66676-1</td>\n",
       "    </tr>\n",
       "    <tr>\n",
       "      <th>conf/jsspp/2016</th>\n",
       "      <td>2019-05-14</td>\n",
       "      <td>Job Scheduling Strategies for Parallel Process...</td>\n",
       "      <td>Narayan Desai</td>\n",
       "      <td>2017</td>\n",
       "      <td>Springer</td>\n",
       "      <td>JSSPP</td>\n",
       "      <td>10353</td>\n",
       "      <td>Lecture Notes in Computer Science</td>\n",
       "      <td>https://doi.org/10.1007/978-3-319-61756-5</td>\n",
       "      <td>db/conf/jsspp/jsspp2016.html</td>\n",
       "      <td>978-3-319-61755-8::978-3-319-61756-5</td>\n",
       "    </tr>\n",
       "    <tr>\n",
       "      <th>conf/jsspp/2016</th>\n",
       "      <td>2019-05-14</td>\n",
       "      <td>Job Scheduling Strategies for Parallel Process...</td>\n",
       "      <td>Walfredo Cirne</td>\n",
       "      <td>2017</td>\n",
       "      <td>Springer</td>\n",
       "      <td>JSSPP</td>\n",
       "      <td>10353</td>\n",
       "      <td>Lecture Notes in Computer Science</td>\n",
       "      <td>https://doi.org/10.1007/978-3-319-61756-5</td>\n",
       "      <td>db/conf/jsspp/jsspp2016.html</td>\n",
       "      <td>978-3-319-61755-8::978-3-319-61756-5</td>\n",
       "    </tr>\n",
       "    <tr>\n",
       "      <th>conf/jsspp/2010</th>\n",
       "      <td>2020-03-27</td>\n",
       "      <td>Job Scheduling Strategies for Parallel Process...</td>\n",
       "      <td>Eitan Frachtenberg</td>\n",
       "      <td>2010</td>\n",
       "      <td>Springer</td>\n",
       "      <td>JSSPP</td>\n",
       "      <td>6253</td>\n",
       "      <td>Lecture Notes in Computer Science</td>\n",
       "      <td>https://doi.org/10.1007/978-3-642-16505-4</td>\n",
       "      <td>db/conf/jsspp/jsspp2010.html</td>\n",
       "      <td>978-3-642-16504-7</td>\n",
       "    </tr>\n",
       "    <tr>\n",
       "      <th>conf/jsspp/2010</th>\n",
       "      <td>2020-03-27</td>\n",
       "      <td>Job Scheduling Strategies for Parallel Process...</td>\n",
       "      <td>Uwe Schwiegelshohn</td>\n",
       "      <td>2010</td>\n",
       "      <td>Springer</td>\n",
       "      <td>JSSPP</td>\n",
       "      <td>6253</td>\n",
       "      <td>Lecture Notes in Computer Science</td>\n",
       "      <td>https://doi.org/10.1007/978-3-642-16505-4</td>\n",
       "      <td>db/conf/jsspp/jsspp2010.html</td>\n",
       "      <td>978-3-642-16504-7</td>\n",
       "    </tr>\n",
       "  </tbody>\n",
       "</table>\n",
       "<p>148900 rows × 11 columns</p>\n",
       "</div>"
      ],
      "text/plain": [
       "                             mdate  \\\n",
       "key                                  \n",
       "tr/trier/MI99-17        2019-09-07   \n",
       "tr/trier/MI99-17        2019-09-07   \n",
       "tr/trier/MI99-17        2019-09-07   \n",
       "reference/genetic/2015  2020-03-27   \n",
       "reference/genetic/2015  2020-03-27   \n",
       "...                            ...   \n",
       "conf/jsspp/1999         2019-05-14   \n",
       "conf/jsspp/2016         2019-05-14   \n",
       "conf/jsspp/2016         2019-05-14   \n",
       "conf/jsspp/2010         2020-03-27   \n",
       "conf/jsspp/2010         2020-03-27   \n",
       "\n",
       "                                                                    title  \\\n",
       "key                                                                         \n",
       "tr/trier/MI99-17        MMB '99, Messung, Modellierung und Bewertung v...   \n",
       "tr/trier/MI99-17        MMB '99, Messung, Modellierung und Bewertung v...   \n",
       "tr/trier/MI99-17        MMB '99, Messung, Modellierung und Bewertung v...   \n",
       "reference/genetic/2015       Handbook of Genetic Programming Applications   \n",
       "reference/genetic/2015       Handbook of Genetic Programming Applications   \n",
       "...                                                                   ...   \n",
       "conf/jsspp/1999         Job Scheduling Strategies for Parallel Process...   \n",
       "conf/jsspp/2016         Job Scheduling Strategies for Parallel Process...   \n",
       "conf/jsspp/2016         Job Scheduling Strategies for Parallel Process...   \n",
       "conf/jsspp/2010         Job Scheduling Strategies for Parallel Process...   \n",
       "conf/jsspp/2010         Job Scheduling Strategies for Parallel Process...   \n",
       "\n",
       "                                      editor  year publisher  \\\n",
       "key                                                            \n",
       "tr/trier/MI99-17                 Dieter Baum  1999       NaN   \n",
       "tr/trier/MI99-17          Norbert Th. Müller  1999       NaN   \n",
       "tr/trier/MI99-17              Richard Rödler  1999       NaN   \n",
       "reference/genetic/2015  Amir Hossein Gandomi  2015  Springer   \n",
       "reference/genetic/2015    Amir Hossein Alavi  2015  Springer   \n",
       "...                                      ...   ...       ...   \n",
       "conf/jsspp/1999                Larry Rudolph  1999  Springer   \n",
       "conf/jsspp/2016                Narayan Desai  2017  Springer   \n",
       "conf/jsspp/2016               Walfredo Cirne  2017  Springer   \n",
       "conf/jsspp/2010           Eitan Frachtenberg  2010  Springer   \n",
       "conf/jsspp/2010           Uwe Schwiegelshohn  2010  Springer   \n",
       "\n",
       "                                 booktitle volume  \\\n",
       "key                                                 \n",
       "tr/trier/MI99-17        MMB (Kurzvorträge)  99-16   \n",
       "tr/trier/MI99-17        MMB (Kurzvorträge)  99-16   \n",
       "tr/trier/MI99-17        MMB (Kurzvorträge)  99-16   \n",
       "reference/genetic/2015                 NaN    NaN   \n",
       "reference/genetic/2015                 NaN    NaN   \n",
       "...                                    ...    ...   \n",
       "conf/jsspp/1999                      JSSPP   1659   \n",
       "conf/jsspp/2016                      JSSPP  10353   \n",
       "conf/jsspp/2016                      JSSPP  10353   \n",
       "conf/jsspp/2010                      JSSPP   6253   \n",
       "conf/jsspp/2010                      JSSPP   6253   \n",
       "\n",
       "                                                                   series  \\\n",
       "key                                                                         \n",
       "tr/trier/MI99-17        Universität Trier, Mathematik/Informatik, Fors...   \n",
       "tr/trier/MI99-17        Universität Trier, Mathematik/Informatik, Fors...   \n",
       "tr/trier/MI99-17        Universität Trier, Mathematik/Informatik, Fors...   \n",
       "reference/genetic/2015                                                NaN   \n",
       "reference/genetic/2015                                                NaN   \n",
       "...                                                                   ...   \n",
       "conf/jsspp/1999                         Lecture Notes in Computer Science   \n",
       "conf/jsspp/2016                         Lecture Notes in Computer Science   \n",
       "conf/jsspp/2016                         Lecture Notes in Computer Science   \n",
       "conf/jsspp/2010                         Lecture Notes in Computer Science   \n",
       "conf/jsspp/2010                         Lecture Notes in Computer Science   \n",
       "\n",
       "                                                               ee  \\\n",
       "key                                                                 \n",
       "tr/trier/MI99-17                                              NaN   \n",
       "tr/trier/MI99-17                                              NaN   \n",
       "tr/trier/MI99-17                                              NaN   \n",
       "reference/genetic/2015  https://doi.org/10.1007/978-3-319-20883-1   \n",
       "reference/genetic/2015  https://doi.org/10.1007/978-3-319-20883-1   \n",
       "...                                                           ...   \n",
       "conf/jsspp/1999             https://doi.org/10.1007/3-540-47954-6   \n",
       "conf/jsspp/2016         https://doi.org/10.1007/978-3-319-61756-5   \n",
       "conf/jsspp/2016         https://doi.org/10.1007/978-3-319-61756-5   \n",
       "conf/jsspp/2010         https://doi.org/10.1007/978-3-642-16505-4   \n",
       "conf/jsspp/2010         https://doi.org/10.1007/978-3-642-16505-4   \n",
       "\n",
       "                                                          url  \\\n",
       "key                                                             \n",
       "tr/trier/MI99-17                      db/conf/mmb/mmb99k.html   \n",
       "tr/trier/MI99-17                      db/conf/mmb/mmb99k.html   \n",
       "tr/trier/MI99-17                      db/conf/mmb/mmb99k.html   \n",
       "reference/genetic/2015  db/reference/genetic/genetic2015.html   \n",
       "reference/genetic/2015  db/reference/genetic/genetic2015.html   \n",
       "...                                                       ...   \n",
       "conf/jsspp/1999                   db/conf/ipps/jsspp1999.html   \n",
       "conf/jsspp/2016                  db/conf/jsspp/jsspp2016.html   \n",
       "conf/jsspp/2016                  db/conf/jsspp/jsspp2016.html   \n",
       "conf/jsspp/2010                  db/conf/jsspp/jsspp2010.html   \n",
       "conf/jsspp/2010                  db/conf/jsspp/jsspp2010.html   \n",
       "\n",
       "                                                        isbn  \n",
       "key                                                           \n",
       "tr/trier/MI99-17                                         NaN  \n",
       "tr/trier/MI99-17                                         NaN  \n",
       "tr/trier/MI99-17                                         NaN  \n",
       "reference/genetic/2015                     978-3-319-20882-4  \n",
       "reference/genetic/2015                     978-3-319-20882-4  \n",
       "...                                                      ...  \n",
       "conf/jsspp/1999                                3-540-66676-1  \n",
       "conf/jsspp/2016         978-3-319-61755-8::978-3-319-61756-5  \n",
       "conf/jsspp/2016         978-3-319-61755-8::978-3-319-61756-5  \n",
       "conf/jsspp/2010                            978-3-642-16504-7  \n",
       "conf/jsspp/2010                            978-3-642-16504-7  \n",
       "\n",
       "[148900 rows x 11 columns]"
      ]
     },
     "execution_count": 38,
     "metadata": {},
     "output_type": "execute_result"
    }
   ],
   "source": [
    "proceeding_spilt_author"
   ]
  },
  {
   "cell_type": "code",
   "execution_count": 40,
   "metadata": {},
   "outputs": [],
   "source": [
    "proceeding_spilt_author.to_csv('csv_files/cleaned_proceeding.csv')"
   ]
  },
  {
   "cell_type": "markdown",
   "metadata": {},
   "source": [
    "## inproceedings and incollection"
   ]
  },
  {
   "cell_type": "code",
   "execution_count": 14,
   "metadata": {},
   "outputs": [],
   "source": [
    "inproceeding = pd.read_csv('csv_files/inproceedings.csv',index_col='key')\n",
    "incollection = pd.read_csv('csv_files/incollection.csv',index_col = 'key')"
   ]
  },
  {
   "cell_type": "code",
   "execution_count": 15,
   "metadata": {},
   "outputs": [],
   "source": [
    "def truncate_title(title):\n",
    "    title = str(title)\n",
    "    if len(title) > 255:\n",
    "        return title[:255]\n",
    "    else:\n",
    "        return title\n",
    "\n",
    "# 应用截断函数到 'title' 列\n",
    "inproceeding['title'] = inproceeding['title'].apply(truncate_title)\n",
    "incollection['title'] = incollection['title'].apply(truncate_title)\n"
   ]
  },
  {
   "cell_type": "code",
   "execution_count": 17,
   "metadata": {},
   "outputs": [],
   "source": [
    "inproceeding['ee'] = inproceeding['ee'].apply(truncate_title)\n",
    "incollection['ee'] = incollection['ee'].apply(truncate_title)"
   ]
  },
  {
   "cell_type": "code",
   "execution_count": 18,
   "metadata": {},
   "outputs": [],
   "source": [
    "inproceeding_spilt_author = inproceeding.assign(author = inproceeding['author'].str.split('::')).explode('author')"
   ]
  },
  {
   "cell_type": "code",
   "execution_count": 19,
   "metadata": {},
   "outputs": [],
   "source": [
    "incollection_spilt_author = incollection.assign(author = incollection['author'].str.split('::')).explode('author')"
   ]
  },
  {
   "cell_type": "code",
   "execution_count": 20,
   "metadata": {},
   "outputs": [
    {
     "data": {
      "text/plain": [
       "mdate        11032353\n",
       "title        11032353\n",
       "author       11027254\n",
       "year         11032353\n",
       "crossref     11015007\n",
       "booktitle    11032353\n",
       "ee           11032353\n",
       "url          11032353\n",
       "dtype: int64"
      ]
     },
     "execution_count": 20,
     "metadata": {},
     "output_type": "execute_result"
    }
   ],
   "source": [
    "inproceeding_spilt_author.count()"
   ]
  },
  {
   "cell_type": "code",
   "execution_count": 22,
   "metadata": {},
   "outputs": [
    {
     "data": {
      "text/plain": [
       "mdate        150461\n",
       "title        150461\n",
       "author       139647\n",
       "year         150461\n",
       "crossref     146555\n",
       "booktitle    150461\n",
       "ee           150461\n",
       "url          150461\n",
       "dtype: int64"
      ]
     },
     "execution_count": 22,
     "metadata": {},
     "output_type": "execute_result"
    }
   ],
   "source": [
    "incollection_spilt_author.count()"
   ]
  },
  {
   "cell_type": "code",
   "execution_count": 24,
   "metadata": {},
   "outputs": [],
   "source": [
    "inproceeding_spilt_author.to_csv('csv_files/cleaned_inproceeding.csv')"
   ]
  },
  {
   "cell_type": "code",
   "execution_count": 25,
   "metadata": {},
   "outputs": [],
   "source": [
    "incollection_spilt_author.to_csv('csv_files/cleaned_incollection.csv')"
   ]
  },
  {
   "cell_type": "markdown",
   "metadata": {},
   "source": [
    "## masterthesis.csv and phdthesis.csv"
   ]
  },
  {
   "cell_type": "code",
   "execution_count": 27,
   "metadata": {},
   "outputs": [],
   "source": [
    "master = pd.read_csv('csv_files/mastersthesis.csv',index_col='key')\n",
    "phd = pd.read_csv('csv_files/phdthesis.csv',index_col = 'key')"
   ]
  },
  {
   "cell_type": "code",
   "execution_count": 28,
   "metadata": {},
   "outputs": [],
   "source": [
    "def truncate_title(title):\n",
    "    title = str(title)\n",
    "    if len(title) > 255:\n",
    "        return title[:255]\n",
    "    else:\n",
    "        return title\n",
    "\n",
    "# 应用截断函数到 'title' 列\n",
    "master['title'] = master['title'].apply(truncate_title)\n",
    "phd['title'] = phd['title'].apply(truncate_title)\n",
    "master['ee'] = master['ee'].apply(truncate_title)\n",
    "phd['ee'] = phd['ee'].apply(truncate_title)\n"
   ]
  },
  {
   "cell_type": "code",
   "execution_count": 29,
   "metadata": {},
   "outputs": [],
   "source": [
    "master_spilt_author = master.assign(author = master['author'].str.split('::')).explode('author')"
   ]
  },
  {
   "cell_type": "code",
   "execution_count": 30,
   "metadata": {},
   "outputs": [
    {
     "data": {
      "text/plain": [
       "mdate     21\n",
       "title     21\n",
       "author    21\n",
       "school    21\n",
       "year      21\n",
       "ee        21\n",
       "dtype: int64"
      ]
     },
     "execution_count": 30,
     "metadata": {},
     "output_type": "execute_result"
    }
   ],
   "source": [
    "master_spilt_author.count()"
   ]
  },
  {
   "cell_type": "code",
   "execution_count": 31,
   "metadata": {},
   "outputs": [],
   "source": [
    "phd_spilt_author = phd.assign(author = phd['author'].str.split('::')).explode('author')"
   ]
  },
  {
   "cell_type": "code",
   "execution_count": 32,
   "metadata": {},
   "outputs": [
    {
     "data": {
      "text/plain": [
       "mdate     116810\n",
       "title     116810\n",
       "author    116809\n",
       "school    116769\n",
       "year      116810\n",
       "ee        116810\n",
       "dtype: int64"
      ]
     },
     "execution_count": 32,
     "metadata": {},
     "output_type": "execute_result"
    }
   ],
   "source": [
    "phd_spilt_author.count()"
   ]
  },
  {
   "cell_type": "code",
   "execution_count": 33,
   "metadata": {},
   "outputs": [],
   "source": [
    "master_spilt_author.to_csv('csv_files/cleaned_masterthesis.csv')\n",
    "phd_spilt_author.to_csv('csv_files/cleaned_phdthesis.csv')"
   ]
  }
 ],
 "metadata": {
  "kernelspec": {
   "display_name": "Python 3",
   "language": "python",
   "name": "python3"
  },
  "language_info": {
   "codemirror_mode": {
    "name": "ipython",
    "version": 3
   },
   "file_extension": ".py",
   "mimetype": "text/x-python",
   "name": "python",
   "nbconvert_exporter": "python",
   "pygments_lexer": "ipython3",
   "version": "3.11.4"
  }
 },
 "nbformat": 4,
 "nbformat_minor": 2
}
